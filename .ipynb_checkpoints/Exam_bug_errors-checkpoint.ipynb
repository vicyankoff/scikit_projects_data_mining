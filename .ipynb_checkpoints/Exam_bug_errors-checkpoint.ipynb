{
 "cells": [
  {
   "cell_type": "code",
   "execution_count": null,
   "metadata": {
    "collapsed": true
   },
   "outputs": [],
   "source": [
    "## preliminaries\n",
    "%matplotlib inline\n",
    "\n",
    "# To start we import some prerequisites\n",
    "from sklearn import datasets, preprocessing, cross_validation, metrics, tree, ensemble, feature_extraction\n",
    "import numpy \n",
    "import pandas\n",
    "import matplotlib.pyplot as plt\n",
    "import urllib2\n",
    "\n",
    "from sklearn.feature_selection import VarianceThreshold\n",
    "from sklearn.cross_validation import StratifiedKFold\n",
    "from scipy import stats\n"
   ]
  },
  {
   "cell_type": "code",
   "execution_count": null,
   "metadata": {
    "collapsed": false
   },
   "outputs": [],
   "source": [
    "data_path = \"data.csv\"\n",
    "\n",
    "data = pandas.read_csv(data_path,\n",
    "                       names=[\"CourseGrade\",\n",
    "                              \"HW1Grade\",\n",
    "                              \"HW2Grade\",\n",
    "                              \"QuizGrade\",\n",
    "                              \"Department\"],\n",
    "                       na_values=\"?\")\n",
    "\n",
    "\n",
    "#Fix missing data\n",
    "data[\"Department\"].fillna(\"missing\", inplace=True) # bug #1 put \"inplace=True\" as param\n",
    "# bug#1 initial expression error cannot use a single bool to index into setitem\n",
    "# because only a single boolean was specified, but it should be an array of booleans\n",
    "# corresponding to each row's value of HW1Grade. \n",
    "# Bug #2 need to add , 'HW1Grade' to loc, so that not all values in that row are replaced by 0\n",
    "# data.loc[\"HW1Grade\"==numpy.nan]=0\n",
    "data.loc[pandas.isnull(data[\"HW1Grade\"]), 'HW1Grade'] = 0 \n",
    "\n",
    "data_target = data.loc[:,\"CourseGrade\"]\n",
    "data_attrs = data.iloc[:,1:]\n",
    "\n",
    " \n",
    "#Do some feature selection\n",
    "# Bug 3 could not convert string to float: missing in the fit_tranform function\n",
    "# replace the string 'missing' with a 0 so that fit_transform wont throw error\n",
    "data.loc[(data[\"Department\"] == 'missing').values, 'Department'] = 0\n",
    "data_attrs = data.iloc[:,1:]\n",
    "\n",
    "# Bug #4 retain the dataframe with the new feature threshold selected\n",
    "# otherwise the transformation is not saved\n",
    "featureselector = VarianceThreshold(threshold=0.2)\n",
    "data_attrs = pandas.DataFrame(featureselector.fit_transform(data_attrs))\n",
    "\n",
    "data_attrs.hist()\n",
    "\n",
    "\n",
    "# #Generate CV folds\n",
    "# Bug #5 object of type 'numpy.int64' has no len()\n",
    "# use data_target.values because StratifiedKFold expects an array\n",
    "kfolds = StratifiedKFold(data_target.values, n_folds=3)\n",
    "for train, test in kfolds:\n",
    "    # Bug #6 need to have iloc before data_attrs[train]\n",
    "    # otherwise the indexes are not selected\n",
    "    data_training = pandas.DataFrame(data_attrs.iloc[train])    \n",
    "    data_testing = pandas.DataFrame(data_attrs.iloc[test])\n",
    "    \n",
    "    #Train two classifiers\n",
    "    # Bug #7 can't use data_target in the fit function as the dimensions wont fit\n",
    "    # must split the labels by train and use that in the fit function\n",
    "    data_train_labels = pandas.DataFrame(data_target.iloc[train])\n",
    "    dtree0 = tree.DecisionTreeClassifier()\n",
    "    dtree0.fit(data_training, data_train_labels)\n",
    "    predict0 = dtree0.predict(data_testing)\n",
    "    \n",
    "    # Bug #8 can't use data_target in the fit function as the dimensions wont fit\n",
    "    # must split the labels by the train indexes and use that\n",
    "    dtree1 = tree.DecisionTreeClassifier(max_leaf_nodes=5)\n",
    "    dtree1.fit(data_training, data_train_labels)\n",
    "    predict1 = dtree1.predict(data_testing)\n",
    "\n",
    "    #Perform a t-test to compare the predictions\n",
    "    # bug #9 must use stats.ttest_ind otherwise it doesn't know\n",
    "    # the library that needs to be used \n",
    "    # Bug #10 ttest_ind' is not appropriate here, use ttest_rel\n",
    "    # because the scors are related, \n",
    "    print stats.ttest_rel(predict0, predict1)\n",
    "\n"
   ]
  }
 ],
 "metadata": {
  "kernelspec": {
   "display_name": "Python 2",
   "language": "python",
   "name": "python2"
  },
  "language_info": {
   "codemirror_mode": {
    "name": "ipython",
    "version": 2
   },
   "file_extension": ".py",
   "mimetype": "text/x-python",
   "name": "python",
   "nbconvert_exporter": "python",
   "pygments_lexer": "ipython2",
   "version": "2.7.11"
  }
 },
 "nbformat": 4,
 "nbformat_minor": 0
}
